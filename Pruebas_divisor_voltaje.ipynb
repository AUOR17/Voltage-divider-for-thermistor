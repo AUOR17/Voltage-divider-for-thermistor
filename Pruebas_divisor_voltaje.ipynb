{
 "cells": [
  {
   "cell_type": "markdown",
   "id": "39c5186d",
   "metadata": {},
   "source": [
    "|Temperatura °C | B 25/100 | Rt/R25 | Coeficiente de temperatura $\\alpha$|\n",
    "|------------|----------|--------|------------------------------------|\n",
    "|80.00  | 3492 K | 0.16307 | 2.8 | \n",
    "|100.00 | 3492 K | 0.094973 | 2.6 | \n"
   ]
  },
  {
   "cell_type": "code",
   "execution_count": 1,
   "id": "ff66a8ff",
   "metadata": {},
   "outputs": [],
   "source": [
    "import math as mt"
   ]
  },
  {
   "cell_type": "code",
   "execution_count": 5,
   "id": "629261f2",
   "metadata": {},
   "outputs": [
    {
     "data": {
      "text/plain": [
       "4.0"
      ]
     },
     "execution_count": 5,
     "metadata": {},
     "output_type": "execute_result"
    }
   ],
   "source": [
    "mt.pow(2,2)"
   ]
  },
  {
   "cell_type": "code",
   "execution_count": 2,
   "id": "4fe453de",
   "metadata": {},
   "outputs": [],
   "source": [
    "def resistance_temper(r_25,temperatura):\n",
    "    resistencia_temper = 10000 * r_25\n",
    "    print(f'La resistencia a {temperatura}°  es: {resistencia_temper}')"
   ]
  },
  {
   "cell_type": "code",
   "execution_count": 3,
   "id": "69312289",
   "metadata": {},
   "outputs": [
    {
     "name": "stdout",
     "output_type": "stream",
     "text": [
      "La resistencia a 80°  es: 1630.6999999999998\n"
     ]
    }
   ],
   "source": [
    "resistance_temper(0.16307,80)"
   ]
  },
  {
   "cell_type": "code",
   "execution_count": 4,
   "id": "ce95c5dc",
   "metadata": {},
   "outputs": [
    {
     "name": "stdout",
     "output_type": "stream",
     "text": [
      "La resistencia a 100°  es: 949.73\n"
     ]
    }
   ],
   "source": [
    "resistance_temper(0.094973,100)"
   ]
  },
  {
   "cell_type": "code",
   "execution_count": 8,
   "id": "c6b199ee",
   "metadata": {},
   "outputs": [],
   "source": [
    "def voltage_divisor(in_voltage, r_25_1,temperatura_1, r_25_2, temperatura_2, resistencia_fija):\n",
    "    resistencia_temper_1 = 10000 * r_25_1\n",
    "    voltage_divisor_out_1 = in_voltage * (resistencia_temper_1/ (resistencia_temper_1+resistencia_fija))\n",
    "    resistencia_temper_2 = 10000 * r_25_2\n",
    "    voltage_divisor_out_2 = in_voltage * (resistencia_temper_2/ (resistencia_temper_2+resistencia_fija))\n",
    "    voltage_var = voltage_divisor_out_1 - voltage_divisor_out_2 \n",
    "    print(f'El divisor de voltaje es de {voltage_divisor_out_1} V \\nTiene una resistencia fija de {resistencia_fija} \\n')\n",
    "    print(f'Una resistencia de temperatura a {temperatura_1}°C con valor {resistencia_temper_1}\\n')\n",
    "    print(f'El divisor de voltaje es de {voltage_divisor_out_2} V \\nTiene una resistencia fija de {resistencia_fija} \\n')\n",
    "    print(f'Una resistencia de temperatura a {temperatura_2}°C con valor {resistencia_temper_2}')\n",
    "    print(f'\\n La diferencia de voltaje es de : {voltage_var}')"
   ]
  },
  {
   "cell_type": "code",
   "execution_count": 9,
   "id": "47c37463",
   "metadata": {},
   "outputs": [
    {
     "name": "stdout",
     "output_type": "stream",
     "text": [
      "El divisor de voltaje es de 2.0455810240620367 V \n",
      "Tiene una resistencia fija de 1000 \n",
      "\n",
      "Una resistencia de temperatura a 80°C con valor 1630.6999999999998\n",
      "\n",
      "El divisor de voltaje es de 0.35354512093857976 V \n",
      "Tiene una resistencia fija de 1000 \n",
      "\n",
      "Una resistencia de temperatura a 200°C con valor 119.99\n",
      "\n",
      " La diferencia de voltaje es de : 1.6920359031234569\n"
     ]
    }
   ],
   "source": [
    "voltage_divisor(3.3, 0.16307, 80,0.011999,200, 1000)"
   ]
  },
  {
   "cell_type": "code",
   "execution_count": 10,
   "id": "195114e5",
   "metadata": {},
   "outputs": [
    {
     "name": "stdout",
     "output_type": "stream",
     "text": [
      "El divisor de voltaje es de 1.7188839556648672 V \n",
      "Tiene una resistencia fija de 1500 \n",
      "\n",
      "Una resistencia de temperatura a 80°C con valor 1630.6999999999998\n",
      "\n",
      "El divisor de voltaje es de 0.24442558287396832 V \n",
      "Tiene una resistencia fija de 1500 \n",
      "\n",
      "Una resistencia de temperatura a 200°C con valor 119.99\n",
      "\n",
      " La diferencia de voltaje es de : 1.4744583727908989\n"
     ]
    }
   ],
   "source": [
    "voltage_divisor(3.3, 0.16307, 80,0.011999,200, 1500)"
   ]
  },
  {
   "cell_type": "code",
   "execution_count": 11,
   "id": "7554928c",
   "metadata": {},
   "outputs": [
    {
     "name": "stdout",
     "output_type": "stream",
     "text": [
      "El divisor de voltaje es de 0.4626815238979596 V \n",
      "Tiene una resistencia fija de 10000 \n",
      "\n",
      "Una resistencia de temperatura a 80°C con valor 1630.6999999999998\n",
      "\n",
      "El divisor de voltaje es de 0.039127212576297005 V \n",
      "Tiene una resistencia fija de 10000 \n",
      "\n",
      "Una resistencia de temperatura a 200°C con valor 119.99\n",
      "\n",
      " La diferencia de voltaje es de : 0.42355431132166255\n"
     ]
    }
   ],
   "source": [
    "voltage_divisor(3.3, 0.16307, 80,0.011999,200, 10000)"
   ]
  },
  {
   "cell_type": "code",
   "execution_count": 23,
   "id": "3ab7e1ec",
   "metadata": {},
   "outputs": [
    {
     "name": "stdout",
     "output_type": "stream",
     "text": [
      "El divisor de voltaje es de 2.0455810240620367 V \n",
      "Tiene una resistencia fija de 1000 \n",
      "\n",
      "Una resistencia de temperatura a 80°C con valor 1630.6999999999998\n",
      "\n",
      "El divisor de voltaje es de 0.35354512093857976 V \n",
      "Tiene una resistencia fija de 1000 \n",
      "\n",
      "Una resistencia de temperatura a 200°C con valor 119.99\n",
      "\n",
      " La diferencia de voltaje es de : 1.6920359031234569\n"
     ]
    }
   ],
   "source": [
    "voltage_divisor(3.3, 0.16307, 80,0.011999,200, 1000)"
   ]
  },
  {
   "cell_type": "code",
   "execution_count": 56,
   "id": "d155a201",
   "metadata": {},
   "outputs": [],
   "source": [
    "def voltage_divisor_altern(in_voltage, r_25_1,temperatura_1, r_25_2, temperatura_2, resistencia_fija):\n",
    "    resistencia_temper_1 = 10000 * r_25_1\n",
    "    voltage_divisor_out_1 = in_voltage * (resistencia_fija/ (resistencia_temper_1+resistencia_fija))\n",
    "    resistencia_temper_2 = 10000 * r_25_2\n",
    "    voltage_divisor_out_2 = in_voltage * (resistencia_fija/ (resistencia_temper_2+resistencia_fija))\n",
    "    voltage_var = voltage_divisor_out_2 - voltage_divisor_out_1 \n",
    "    print(f'El divisor de voltaje es de {voltage_divisor_out_1} V \\nTiene una resistencia fija de {resistencia_fija} \\n')\n",
    "    print(f'Una resistencia de temperatura a {temperatura_1}°C con valor {resistencia_temper_1}\\n')\n",
    "    print(f'El divisor de voltaje es de {voltage_divisor_out_2} V \\nTiene una resistencia fija de {resistencia_fija} \\n')\n",
    "    print(f'Una resistencia de temperatura a {temperatura_2}°C con valor {resistencia_temper_2}')\n",
    "    print(f'\\n La diferencia de voltaje es de : {voltage_var}')"
   ]
  },
  {
   "cell_type": "code",
   "execution_count": 57,
   "id": "06e3234d",
   "metadata": {},
   "outputs": [
    {
     "name": "stdout",
     "output_type": "stream",
     "text": [
      "El divisor de voltaje es de 1.2544189759379634 V \n",
      "Tiene una resistencia fija de 1000 \n",
      "\n",
      "Una resistencia de temperatura a 80°C con valor 1630.6999999999998\n",
      "\n",
      "El divisor de voltaje es de 1.6925420442830545 V \n",
      "Tiene una resistencia fija de 1000 \n",
      "\n",
      "Una resistencia de temperatura a 100°C con valor 949.73\n",
      "\n",
      " La diferencia de voltaje es de : 0.4381230683450912\n"
     ]
    }
   ],
   "source": [
    "voltage_divisor_altern(3.3, 0.16307, 80,0.094973,100, 1000)"
   ]
  },
  {
   "cell_type": "code",
   "execution_count": 58,
   "id": "a57d1cdd",
   "metadata": {},
   "outputs": [
    {
     "name": "stdout",
     "output_type": "stream",
     "text": [
      "El divisor de voltaje es de 0.19067429363841223 V \n",
      "Tiene una resistencia fija de 100 \n",
      "\n",
      "Una resistencia de temperatura a 80°C con valor 1630.6999999999998\n",
      "\n",
      "El divisor de voltaje es de 0.3143665513989311 V \n",
      "Tiene una resistencia fija de 100 \n",
      "\n",
      "Una resistencia de temperatura a 100°C con valor 949.73\n",
      "\n",
      " La diferencia de voltaje es de : 0.12369225776051887\n"
     ]
    }
   ],
   "source": [
    "voltage_divisor_altern(3.3, 0.16307, 80,0.094973,100, 100)"
   ]
  },
  {
   "cell_type": "code",
   "execution_count": 59,
   "id": "22cb5825",
   "metadata": {},
   "outputs": [
    {
     "data": {
      "text/plain": [
       "3.141592653589793"
      ]
     },
     "execution_count": 59,
     "metadata": {},
     "output_type": "execute_result"
    }
   ],
   "source": [
    "mt.pi"
   ]
  },
  {
   "cell_type": "code",
   "execution_count": null,
   "id": "483a376b",
   "metadata": {},
   "outputs": [],
   "source": []
  }
 ],
 "metadata": {
  "kernelspec": {
   "display_name": "Python 3 (ipykernel)",
   "language": "python",
   "name": "python3"
  },
  "language_info": {
   "codemirror_mode": {
    "name": "ipython",
    "version": 3
   },
   "file_extension": ".py",
   "mimetype": "text/x-python",
   "name": "python",
   "nbconvert_exporter": "python",
   "pygments_lexer": "ipython3",
   "version": "3.9.12"
  }
 },
 "nbformat": 4,
 "nbformat_minor": 5
}
