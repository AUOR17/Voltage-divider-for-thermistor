{
 "cells": [
  {
   "cell_type": "markdown",
   "id": "39c5186d",
   "metadata": {},
   "source": [
    "|Temperatura °C | B 25/100 | Rt/R25 | Coeficiente de temperatura $\\alpha$|\n",
    "|------------|----------|--------|------------------------------------|\n",
    "|80.00  | 3492 K | 0.16307 | 2.8 | \n",
    "|100.00 | 3492 K | 0.094973 | 2.6 | \n"
   ]
  },
  {
   "cell_type": "markdown",
   "id": "1a46146a",
   "metadata": {},
   "source": [
    "NTC 3950 \n",
    "\n",
    "|Temperatura °C | B 25/50 | Rt/R25 | Resistencia correspondiente|\n",
    "|------------|----------|--------|------------------------------------|\n",
    "|10 | 3950 K | ? | 199.9900 | \n",
    "|20 | 3950 K | ? |  125.2450 | \n",
    "|30  | 3950 K | ? | 81.0000  | \n",
    "|40 | 3950 K | ? | 53.5000  |\n",
    "|50  | 3950 K | ? | 35.8999 | \n",
    "|60 | 3950 K | ? | 25.0000 |\n",
    "|70  | 3950 K | ? | 17.5500  | \n",
    "|80 | 3950 K | ? | 12.5400  |\n",
    "|90 | 3950 K | ? | 9.1000  |\n",
    "|100 | 3950 K | ? | 6.7100  |\n"
   ]
  },
  {
   "cell_type": "code",
   "execution_count": 1,
   "id": "ff66a8ff",
   "metadata": {},
   "outputs": [],
   "source": [
    "import math\n",
    "import numpy as np\n",
    "import pandas as pd"
   ]
  },
  {
   "cell_type": "code",
   "execution_count": 2,
   "id": "22cb5825",
   "metadata": {},
   "outputs": [],
   "source": [
    "#Funcion para obtener una diferencia de voltaje de acuerdo a las resistencias de los termistores y la que va en serie con este\n",
    "\n",
    "#In_voltage es el voltaje con la que se van alimentar las resistencias\n",
    "#r_25_1 es la resistencia que deberia tener el termistor a la temperatura_1 esto se puede obtener del datasheet del termistor\n",
    "#resistencia fija es el valor de la resistencia que va en serie con el termistor segun la configuracion del divisor de voltaje\n",
    "\n",
    "def voltage_divisor_altern_3950(in_voltage, r_25_1,temperatura_1, r_25_2, temperatura_2, resistencia_fija):\n",
    "    resistencia_temper_1 = r_25_1\n",
    "    \n",
    "    #se calcula el divisor de voltaje con el valor de r_25_1\n",
    "    voltage_divisor_out_1 = in_voltage * (resistencia_temper_1/ (resistencia_temper_1+resistencia_fija)) \n",
    "    resistencia_temper_2 = r_25_2\n",
    "    \n",
    "    #se calcula el divisor de voltaje con el valor de r_25_2\n",
    "    voltage_divisor_out_2 = in_voltage * (resistencia_temper_2/ (resistencia_temper_2+resistencia_fija))\n",
    "    \n",
    "    #Se calcula la diferencia de voltaje entre ambos divisores, entre mas diferencia halla mejor sera la precision del termistor\n",
    "    voltage_var = voltage_divisor_out_2 - voltage_divisor_out_1 \n",
    "    \n",
    "    #Se imprimen los valores de r_25_1\n",
    "    print(f'1. Una resistencia de temperatura a {temperatura_1}°C con valor {resistencia_temper_1}\\n')\n",
    "    print(f'El divisor de voltaje es de {voltage_divisor_out_1} V \\nTiene una resistencia fija de {resistencia_fija} \\n')\n",
    "    \n",
    "    #Se imprimen los valores de r_25_2\n",
    "    print(f'2. Una resistencia de temperatura a {temperatura_2}°C con valor {resistencia_temper_2}\\n')\n",
    "    print(f'El divisor de voltaje es de {voltage_divisor_out_2} V \\nTiene una resistencia fija de {resistencia_fija} \\n')\n",
    "    \n",
    "    \n",
    "    #Se imprime la diferencia de voltaje\n",
    "    print(f'\\nLa diferencia de voltaje es de : {voltage_var} V entre {temperatura_1}°C y {temperatura_2}°C del termistor\\n')"
   ]
  },
  {
   "cell_type": "code",
   "execution_count": 6,
   "id": "e47e8c6b",
   "metadata": {},
   "outputs": [
    {
     "name": "stdout",
     "output_type": "stream",
     "text": [
      "1. Una resistencia de temperatura a 25°C con valor 10000\n",
      "\n",
      "El divisor de voltaje es de 2.9999999999999996 V \n",
      "Tiene una resistencia fija de 1000 \n",
      "\n",
      "2. Una resistencia de temperatura a 100°C con valor 680\n",
      "\n",
      "El divisor de voltaje es de 1.3357142857142856 V \n",
      "Tiene una resistencia fija de 1000 \n",
      "\n",
      "\n",
      "La diferencia de voltaje es de : -1.664285714285714 V entre 25°C y 100°C del termistor\n",
      "\n"
     ]
    }
   ],
   "source": [
    "voltage_divisor_altern_3950(3.3, 10000, 25,680,100, 1000)"
   ]
  },
  {
   "cell_type": "code",
   "execution_count": 3,
   "id": "e43c9bd0",
   "metadata": {},
   "outputs": [
    {
     "name": "stdout",
     "output_type": "stream",
     "text": [
      "   Fix Resistance  Voltage Difference\n",
      "4         40000.0            2.275924\n"
     ]
    }
   ],
   "source": [
    "#Esta funcion hace algo similar a la anterior, la diferencia es que busca la resistencia fija ideal para que la \n",
    "#diferencia de voltaje sea la maxima\n",
    "#res_temp_1 es la resistencia que deberia tener el termistor a la temperatura temp_1\n",
    "#aum es el aumento de valor que se le da a la resistencia fija de manera conveniente, puede ir de 1 en 1, de 10k a 10k \n",
    "#lim es el limite de valor a la que llegara la resistencia, esto se pone de acuerdo al analisis que se esta lelvando acabo\n",
    "\n",
    "def find_fix_resistance(res_temp_1,temp_1,res_temp_2,temp_2,aum,lim):\n",
    "    \n",
    "    #voltaje de entrada\n",
    "    in_voltage = 3.3\n",
    "    \n",
    "    #se inicializa la resistencia\n",
    "    fix_res = 0\n",
    "    \n",
    "    #Se crea un array para los valores de la resistencia\n",
    "    data_fix_res = []\n",
    "    \n",
    "    #Se crea un array para los valores de la diferencia de voltaje\n",
    "    data_diff_voltage = []\n",
    "    \n",
    "    #Comienza el ciclo de asignar los valores de la resistencia y seguira hasta que los valores sean iguales o mayores a lim\n",
    "    while fix_res < lim:\n",
    "        \n",
    "        #se agrega el valor de la resistencia fija al array\n",
    "        data_fix_res.append(fix_res)\n",
    "        \n",
    "        #se calcula el divisor de voltaje de acuerdo a las resistencias del termistor a ciertas temperaturas\n",
    "        voltage_divisor_out_1 = in_voltage * (res_temp_1 / (res_temp_1 + fix_res))\n",
    "        voltage_divisor_out_2 = in_voltage * (res_temp_2 / (res_temp_2 + fix_res))\n",
    "        \n",
    "        #se calcula la diferencia de voltaje\n",
    "        diff_voltage = voltage_divisor_out_1 - voltage_divisor_out_2\n",
    "        \n",
    "        #se aumenta el valor de la resitencia fija de acuerdo al parametro que se coloca\n",
    "        fix_res += aum\n",
    "        \n",
    "        #se agrega el valor de la diferencia de voltaje al array\n",
    "        data_diff_voltage.append(diff_voltage)\n",
    "        \n",
    "    #regresa ambos arrays\n",
    "    return data_fix_res, data_diff_voltage\n",
    "\n",
    "#se convierte el a un numpy array\n",
    "fix_res = np.array(find_fix_resistance(199990, 10,6710,100,10e+3,1e+6))\n",
    "\n",
    "#se aplica la transpuesta para que las columnas sean la que tiene el mayor numero de registros\n",
    "fix_res = np.transpose(fix_res)\n",
    "\n",
    "#se crea un DataFrame y se le asigna el nombte de las columnas\n",
    "diff_voltage = pd.DataFrame(fix_res,columns = ['Fix Resistance','Voltage Difference'])\n",
    "\n",
    "#se busca el renglon donde la diferencia de voltaje sea la mayor \n",
    "index_max = diff_voltage.index[diff_voltage['Voltage Difference']==diff_voltage['Voltage Difference'].max()].tolist()\n",
    "\n",
    "#se imprime el renglon que se ha encontrado\n",
    "print(diff_voltage.iloc[index_max])"
   ]
  },
  {
   "cell_type": "code",
   "execution_count": 4,
   "id": "34e4f6e7",
   "metadata": {},
   "outputs": [
    {
     "name": "stdout",
     "output_type": "stream",
     "text": [
      "    Fix Resistance  Voltage Difference\n",
      "10          1000.0                 2.7\n"
     ]
    }
   ],
   "source": [
    "\"\"\" La diferencia entre la primera y la segunda funcion radica que la segunda busca una resistencia ideal, \n",
    "pero esta resistencia no necesariamente existe, por ello la primera funcion busca la diferencia de voltaje con una resistencia\n",
    "especifica y asi se puede usar con las resistencias que existen o son comerciales\n",
    "\n",
    "\"\"\"\n",
    "# def find_fix_resistance(res_temp_1,temp_1,res_temp_2,temp_2,aum,lim):\n",
    "\n",
    "fix_res_g = np.array(find_fix_resistance(10000, 25,100,680,100,12e+3))\n",
    "fix_res_g = np.transpose(fix_res_g)\n",
    "\n",
    "diff_voltage_g = pd.DataFrame(fix_res_g,columns = ['Fix Resistance','Voltage Difference'])\n",
    "index_max = diff_voltage_g.index[diff_voltage_g['Voltage Difference']==diff_voltage_g['Voltage Difference'].max()].tolist()\n",
    "print(diff_voltage_g.iloc[index_max])"
   ]
  },
  {
   "cell_type": "code",
   "execution_count": 12,
   "id": "1039b3e1",
   "metadata": {},
   "outputs": [
    {
     "name": "stdout",
     "output_type": "stream",
     "text": [
      "Una resistencia de temperatura a 25°C con valor 10000\n",
      "\n",
      "El divisor de voltaje es de 1.65 V \n",
      "Tiene una resistencia fija de 10000 \n",
      "\n",
      "El divisor de voltaje es de 0.2835466179159049 V \n",
      "Tiene una resistencia fija de 10000 \n",
      "\n",
      "Una resistencia de temperatura a 100°C con valor 940\n",
      "\n",
      " La diferencia de voltaje es de : -1.366453382084095\n"
     ]
    }
   ],
   "source": [
    "# def voltage_divisor_altern_3950(in_voltage, r_25_1,temperatura_1, r_25_2, temperatura_2, resistencia_fija):\n",
    "voltage_divisor_altern_3950(3.3, 10000, 25,940,100, 10000)"
   ]
  },
  {
   "cell_type": "code",
   "execution_count": 13,
   "id": "8e0faa5f",
   "metadata": {},
   "outputs": [
    {
     "name": "stdout",
     "output_type": "stream",
     "text": [
      "Una resistencia de temperatura a 25°C con valor 10000\n",
      "\n",
      "El divisor de voltaje es de 2.9999999999999996 V \n",
      "Tiene una resistencia fija de 1000 \n",
      "\n",
      "El divisor de voltaje es de 1.5989690721649483 V \n",
      "Tiene una resistencia fija de 1000 \n",
      "\n",
      "Una resistencia de temperatura a 100°C con valor 940\n",
      "\n",
      " La diferencia de voltaje es de : -1.4010309278350512\n"
     ]
    }
   ],
   "source": [
    "voltage_divisor_altern_3950(3.3, 10000, 25,940,100, 1000)"
   ]
  },
  {
   "cell_type": "code",
   "execution_count": 136,
   "id": "c6b0137c",
   "metadata": {},
   "outputs": [
    {
     "name": "stdout",
     "output_type": "stream",
     "text": [
      "El divisor de voltaje es de 2.4003480278422273 V \n",
      "Tiene una resistencia fija de 4700.0 \n",
      "\n",
      "Una resistencia de temperatura a 80°C con valor 12540\n",
      "\n",
      "El divisor de voltaje es de 0.5283774124374553 V \n",
      "Tiene una resistencia fija de 4700.0 \n",
      "\n",
      "Una resistencia de temperatura a 180°C con valor 896\n",
      "\n",
      " La diferencia de voltaje es de : -1.8719706154047722\n"
     ]
    }
   ],
   "source": [
    "voltage_divisor_altern_3950(3.3,12540, 80,896,180, 4.7e+3)"
   ]
  },
  {
   "cell_type": "code",
   "execution_count": 127,
   "id": "55af1ab1",
   "metadata": {},
   "outputs": [
    {
     "name": "stdout",
     "output_type": "stream",
     "text": [
      "El divisor de voltaje es de 1.995274831243973 V \n",
      "Tiene una resistencia fija de 8200.0 \n",
      "\n",
      "Una resistencia de temperatura a 80°C con valor 12540\n",
      "\n",
      "El divisor de voltaje es de 1.4851106639839033 V \n",
      "Tiene una resistencia fija de 8200.0 \n",
      "\n",
      "Una resistencia de temperatura a 100°C con valor 6710\n",
      "\n",
      " La diferencia de voltaje es de : -0.5101641672600696\n"
     ]
    }
   ],
   "source": [
    "voltage_divisor_altern_3950(3.3,12540, 80,896,180, 3900)"
   ]
  },
  {
   "cell_type": "code",
   "execution_count": 8,
   "id": "ee0c7ae8",
   "metadata": {},
   "outputs": [
    {
     "name": "stdout",
     "output_type": "stream",
     "text": [
      "    Fix Resistance  Voltage Difference\n",
      "42          4200.0            2.073095\n"
     ]
    }
   ],
   "source": [
    "\"\"\" La diferencia entre la primera y la segunda funcion radica que la segunda busca una resistencia ideal, \n",
    "pero esta resistencia no necesariamente existe, por ello la primera funcion busca la diferencia de voltaje con una resistencia\n",
    "especifica y asi se puede usar con las resistencias que existen o son comerciales\n",
    "\n",
    "\"\"\"\n",
    "\n",
    "fix_res_g = np.array(find_fix_resistance(18216, 10,949.73,100,100,100e+3))\n",
    "fix_res_g = np.transpose(fix_res_g)\n",
    "\n",
    "diff_voltage_g = pd.DataFrame(fix_res_g,columns = ['Fix Resistance','Voltage Difference'])\n",
    "index_max = diff_voltage_g.index[diff_voltage_g['Voltage Difference']==diff_voltage_g['Voltage Difference'].max()].tolist()\n",
    "print(diff_voltage_g.iloc[index_max])"
   ]
  },
  {
   "cell_type": "code",
   "execution_count": 12,
   "id": "e6cd24e4",
   "metadata": {},
   "outputs": [
    {
     "name": "stdout",
     "output_type": "stream",
     "text": [
      "Una resistencia de temperatura a 10°C con valor 18216\n",
      "\n",
      "El divisor de voltaje es de 2.718068366793272 V \n",
      "Tiene una resistencia fija de 3900 \n",
      "\n",
      "El divisor de voltaje es de 0.6462440177082023 V \n",
      "Tiene una resistencia fija de 3900 \n",
      "\n",
      "Una resistencia de temperatura a 100°C con valor 949.73\n",
      "\n",
      " La diferencia de voltaje es de : -2.0718243490850696\n"
     ]
    }
   ],
   "source": [
    "voltage_divisor_altern_3950(3.3,18216, 10,949.73,100, 3900)"
   ]
  },
  {
   "cell_type": "code",
   "execution_count": 10,
   "id": "d8179877",
   "metadata": {},
   "outputs": [
    {
     "name": "stdout",
     "output_type": "stream",
     "text": [
      "    Fix Resistance  Voltage Difference\n",
      "26          2600.0            1.934901\n"
     ]
    }
   ],
   "source": [
    "fix_res_g = np.array(find_fix_resistance(10000, 0,680,100,10,100e+3))\n",
    "fix_res_g = np.transpose(fix_res_g)\n",
    "\n",
    "diff_voltage_g = pd.DataFrame(fix_res_g,columns = ['Fix Resistance','Voltage Difference'])\n",
    "index_max = diff_voltage_g.index[diff_voltage_g['Voltage Difference']==diff_voltage_g['Voltage Difference'].max()].tolist()\n",
    "print(diff_voltage_g.iloc[index_max])\n"
   ]
  },
  {
   "cell_type": "code",
   "execution_count": 8,
   "id": "5faddc07",
   "metadata": {},
   "outputs": [
    {
     "name": "stdout",
     "output_type": "stream",
     "text": [
      "Una resistencia de temperatura a 10°C con valor 37062\n",
      "\n",
      "El divisor de voltaje es de 2.9077219342874803 V \n",
      "Tiene una resistencia fija de 5000 \n",
      "\n",
      "El divisor de voltaje es de 0.4883163467879496 V \n",
      "Tiene una resistencia fija de 5000 \n",
      "\n",
      "Una resistencia de temperatura a 110°C con valor 868.37\n",
      "\n",
      " La diferencia de voltaje es de : -2.4194055874995306\n"
     ]
    }
   ],
   "source": [
    "voltage_divisor_altern_3950(3.3,37062, 10,868.37,110, 5000)"
   ]
  },
  {
   "cell_type": "code",
   "execution_count": 9,
   "id": "585a8f10",
   "metadata": {},
   "outputs": [
    {
     "name": "stdout",
     "output_type": "stream",
     "text": [
      "Una resistencia de temperatura a 10°C con valor 37062\n",
      "\n",
      "El divisor de voltaje es de 2.900825387789953 V \n",
      "Tiene una resistencia fija de 5100 \n",
      "\n",
      "El divisor de voltaje es de 0.4801346096170311 V \n",
      "Tiene una resistencia fija de 5100 \n",
      "\n",
      "Una resistencia de temperatura a 110°C con valor 868.37\n",
      "\n",
      " La diferencia de voltaje es de : -2.4206907781729217\n"
     ]
    }
   ],
   "source": [
    "voltage_divisor_altern_3950(3.3,37062, 10,868.37,110, 5100)"
   ]
  },
  {
   "cell_type": "code",
   "execution_count": 9,
   "id": "d32ce7e6",
   "metadata": {},
   "outputs": [
    {
     "name": "stdout",
     "output_type": "stream",
     "text": [
      "Una resistencia de temperatura a 10°C con valor 37062\n",
      "\n",
      "El divisor de voltaje es de 2.8668276217711313 V \n",
      "Tiene una resistencia fija de 5600 \n",
      "\n",
      "El divisor de voltaje es de 0.44302057550820373 V \n",
      "Tiene una resistencia fija de 5600 \n",
      "\n",
      "Una resistencia de temperatura a 110°C con valor 868.37\n",
      "\n",
      " La diferencia de voltaje es de : -2.4238070462629278\n"
     ]
    }
   ],
   "source": [
    "voltage_divisor_altern_3950(3.3,37062, 10,868.37,110, 5600)"
   ]
  },
  {
   "cell_type": "code",
   "execution_count": 10,
   "id": "4b4277c6",
   "metadata": {},
   "outputs": [
    {
     "name": "stdout",
     "output_type": "stream",
     "text": [
      "Una resistencia de temperatura a 10°C con valor 37062\n",
      "\n",
      "El divisor de voltaje es de 2.900825387789953 V \n",
      "Tiene una resistencia fija de 5100 \n",
      "\n",
      "El divisor de voltaje es de 0.4801346096170311 V \n",
      "Tiene una resistencia fija de 5100 \n",
      "\n",
      "Una resistencia de temperatura a 110°C con valor 868.37\n",
      "\n",
      " La diferencia de voltaje es de : -2.4206907781729217\n"
     ]
    }
   ],
   "source": [
    "voltage_divisor_altern_3950(3.3,37062, 10,868.37,110, 5100)"
   ]
  },
  {
   "cell_type": "code",
   "execution_count": null,
   "id": "31b62d06",
   "metadata": {},
   "outputs": [],
   "source": [
    "|"
   ]
  }
 ],
 "metadata": {
  "kernelspec": {
   "display_name": "Python 3 (ipykernel)",
   "language": "python",
   "name": "python3"
  },
  "language_info": {
   "codemirror_mode": {
    "name": "ipython",
    "version": 3
   },
   "file_extension": ".py",
   "mimetype": "text/x-python",
   "name": "python",
   "nbconvert_exporter": "python",
   "pygments_lexer": "ipython3",
   "version": "undefined.undefined.undefined"
  }
 },
 "nbformat": 4,
 "nbformat_minor": 5
}
